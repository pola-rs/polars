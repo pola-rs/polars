{
 "cells": [
  {
   "cell_type": "markdown",
   "id": "4b04f7e8",
   "metadata": {},
   "source": [
    "# 01-polars-vs-pandas"
   ]
  },
  {
   "cell_type": "markdown",
   "id": "75cb877a",
   "metadata": {},
   "source": [
    "The objective of this notebook is to evaluate and demonstrate the utility of [polars](https://github.com/pola-rs/polars), particularly in comparison against the more traditional pandas."
   ]
  },
  {
   "cell_type": "markdown",
   "id": "d347936f",
   "metadata": {},
   "source": [
    "# 1. Env"
   ]
  },
  {
   "cell_type": "code",
   "execution_count": 1,
   "id": "ae431f52",
   "metadata": {},
   "outputs": [],
   "source": [
    "import pandas as pd\n",
    "import polars as pl\n",
    "import numpy as np\n",
    "import os"
   ]
  },
  {
   "cell_type": "markdown",
   "id": "ccc8723c",
   "metadata": {},
   "source": [
    "# 2. DataFrame Creation"
   ]
  },
  {
   "cell_type": "code",
   "execution_count": 2,
   "id": "fa3e602d",
   "metadata": {},
   "outputs": [],
   "source": [
    "length = 10000000\n",
    "a = np.random.random(length)\n",
    "b = np.random.randint(0, 5, size=length)\n",
    "c = np.random.randint(0, 10, size=length)"
   ]
  },
  {
   "cell_type": "code",
   "execution_count": 3,
   "id": "80050c76",
   "metadata": {},
   "outputs": [],
   "source": [
    "fruit_list = [\"banana\", \"apple\", \"cherry\", \"pineapple\", \"blueberry\"]\n",
    "fruit_weights = 5 + 4 * np.random.random(len(fruit_list))\n",
    "fruits = np.random.choice(fruit_list, length)"
   ]
  },
  {
   "cell_type": "code",
   "execution_count": 4,
   "id": "db81de73",
   "metadata": {},
   "outputs": [
    {
     "name": "stdout",
     "output_type": "stream",
     "text": [
      "CPU times: user 1.26 s, sys: 194 ms, total: 1.45 s\n",
      "Wall time: 1.45 s\n"
     ]
    }
   ],
   "source": [
    "%%time\n",
    "pd_df = pd.DataFrame(\n",
    "    {\n",
    "        \"a\": a,\n",
    "        \"b\": b,\n",
    "        \"c\": c,\n",
    "        \"fruit\": fruits\n",
    "    }\n",
    ")\n",
    "\n",
    "pd_fruit_weights = pd.DataFrame(\n",
    "    {\n",
    "        \"fruit\": fruit_list,\n",
    "        \"fruit_weight\": fruit_weights\n",
    "    }\n",
    ")"
   ]
  },
  {
   "cell_type": "code",
   "execution_count": 5,
   "id": "07b5f8a3",
   "metadata": {},
   "outputs": [
    {
     "name": "stdout",
     "output_type": "stream",
     "text": [
      "CPU times: user 3.64 s, sys: 678 ms, total: 4.32 s\n",
      "Wall time: 4.33 s\n"
     ]
    }
   ],
   "source": [
    "%%time\n",
    "pl_df = pl.DataFrame(\n",
    "    {\n",
    "        \"a\": a,\n",
    "        \"b\": b,\n",
    "        \"c\": c,\n",
    "        \"fruit\": fruits\n",
    "    }\n",
    ")\n",
    "\n",
    "pl_fruit_weights = pl.DataFrame(\n",
    "    {\n",
    "        \"fruit\": fruit_list,\n",
    "        \"fruit_weight\": fruit_weights\n",
    "    }\n",
    ")"
   ]
  },
  {
   "cell_type": "markdown",
   "id": "3adc1c5d",
   "metadata": {},
   "source": [
    "# 3. Simple Aggregates"
   ]
  },
  {
   "cell_type": "markdown",
   "id": "af00cecc",
   "metadata": {},
   "source": [
    "#### `sum`"
   ]
  },
  {
   "cell_type": "code",
   "execution_count": 6,
   "id": "79af7b5f",
   "metadata": {},
   "outputs": [
    {
     "name": "stdout",
     "output_type": "stream",
     "text": [
      "CPU times: user 100 ms, sys: 41.9 ms, total: 142 ms\n",
      "Wall time: 141 ms\n"
     ]
    },
    {
     "data": {
      "text/plain": [
       "a    5.000375e+06\n",
       "b    1.999943e+07\n",
       "c    4.499293e+07\n",
       "dtype: float64"
      ]
     },
     "execution_count": 6,
     "metadata": {},
     "output_type": "execute_result"
    }
   ],
   "source": [
    "%%time\n",
    "pd_df[[\"a\", \"b\", \"c\"]].sum()"
   ]
  },
  {
   "cell_type": "code",
   "execution_count": 7,
   "id": "47d3d653",
   "metadata": {},
   "outputs": [
    {
     "name": "stdout",
     "output_type": "stream",
     "text": [
      "CPU times: user 37.3 ms, sys: 1.02 ms, total: 38.4 ms\n",
      "Wall time: 13.1 ms\n"
     ]
    },
    {
     "data": {
      "text/html": [
       "<div>\n",
       "<style scoped>\n",
       "    .dataframe tbody tr th:only-of-type {\n",
       "        vertical-align: middle;\n",
       "    }\n",
       "\n",
       "    .dataframe tbody tr th {\n",
       "        vertical-align: top;\n",
       "    }\n",
       "\n",
       "    .dataframe thead th {\n",
       "        text-align: right;\n",
       "    }\n",
       "</style>\n",
       "<table border=\"1 \"class=\"dataframe \">\n",
       "<thead>\n",
       "<tr>\n",
       "<th>\n",
       "a\n",
       "</th>\n",
       "<th>\n",
       "b\n",
       "</th>\n",
       "<th>\n",
       "c\n",
       "</th>\n",
       "</tr>\n",
       "<tr>\n",
       "<td>\n",
       "f64\n",
       "</td>\n",
       "<td>\n",
       "i64\n",
       "</td>\n",
       "<td>\n",
       "i64\n",
       "</td>\n",
       "</tr>\n",
       "</thead>\n",
       "<tbody>\n",
       "<tr>\n",
       "<td>\n",
       "5.000374983470603e6\n",
       "</td>\n",
       "<td>\n",
       "19999429\n",
       "</td>\n",
       "<td>\n",
       "44992931\n",
       "</td>\n",
       "</tr>\n",
       "</tbody>\n",
       "</table>\n",
       "</div>"
      ],
      "text/plain": [
       "shape: (1, 3)\n",
       "┌─────────────────────┬──────────┬──────────┐\n",
       "│ a                   ┆ b        ┆ c        │\n",
       "│ ---                 ┆ ---      ┆ ---      │\n",
       "│ f64                 ┆ i64      ┆ i64      │\n",
       "╞═════════════════════╪══════════╪══════════╡\n",
       "│ 5.000374983470603e6 ┆ 19999429 ┆ 44992931 │\n",
       "└─────────────────────┴──────────┴──────────┘"
      ]
     },
     "execution_count": 7,
     "metadata": {},
     "output_type": "execute_result"
    }
   ],
   "source": [
    "%%time\n",
    "pl_df[[\"a\", \"b\", \"c\"]].sum()"
   ]
  },
  {
   "cell_type": "markdown",
   "id": "3c44908c",
   "metadata": {},
   "source": [
    "#### `mean`"
   ]
  },
  {
   "cell_type": "code",
   "execution_count": 8,
   "id": "9f8af8f9",
   "metadata": {},
   "outputs": [
    {
     "name": "stdout",
     "output_type": "stream",
     "text": [
      "CPU times: user 86.1 ms, sys: 12 ms, total: 98.1 ms\n",
      "Wall time: 96.7 ms\n"
     ]
    },
    {
     "data": {
      "text/plain": [
       "a    0.500037\n",
       "b    1.999943\n",
       "c    4.499293\n",
       "dtype: float64"
      ]
     },
     "execution_count": 8,
     "metadata": {},
     "output_type": "execute_result"
    }
   ],
   "source": [
    "%%time\n",
    "pd_df[[\"a\", \"b\", \"c\"]].mean()"
   ]
  },
  {
   "cell_type": "code",
   "execution_count": 9,
   "id": "9f5db120",
   "metadata": {},
   "outputs": [
    {
     "name": "stdout",
     "output_type": "stream",
     "text": [
      "CPU times: user 17.2 ms, sys: 332 µs, total: 17.5 ms\n",
      "Wall time: 6.09 ms\n"
     ]
    },
    {
     "data": {
      "text/html": [
       "<div>\n",
       "<style scoped>\n",
       "    .dataframe tbody tr th:only-of-type {\n",
       "        vertical-align: middle;\n",
       "    }\n",
       "\n",
       "    .dataframe tbody tr th {\n",
       "        vertical-align: top;\n",
       "    }\n",
       "\n",
       "    .dataframe thead th {\n",
       "        text-align: right;\n",
       "    }\n",
       "</style>\n",
       "<table border=\"1 \"class=\"dataframe \">\n",
       "<thead>\n",
       "<tr>\n",
       "<th>\n",
       "a\n",
       "</th>\n",
       "<th>\n",
       "b\n",
       "</th>\n",
       "<th>\n",
       "c\n",
       "</th>\n",
       "</tr>\n",
       "<tr>\n",
       "<td>\n",
       "f64\n",
       "</td>\n",
       "<td>\n",
       "f64\n",
       "</td>\n",
       "<td>\n",
       "f64\n",
       "</td>\n",
       "</tr>\n",
       "</thead>\n",
       "<tbody>\n",
       "<tr>\n",
       "<td>\n",
       "0.5000374983470602\n",
       "</td>\n",
       "<td>\n",
       "1.9999429\n",
       "</td>\n",
       "<td>\n",
       "4.4992931\n",
       "</td>\n",
       "</tr>\n",
       "</tbody>\n",
       "</table>\n",
       "</div>"
      ],
      "text/plain": [
       "shape: (1, 3)\n",
       "┌────────────────────┬───────────┬───────────┐\n",
       "│ a                  ┆ b         ┆ c         │\n",
       "│ ---                ┆ ---       ┆ ---       │\n",
       "│ f64                ┆ f64       ┆ f64       │\n",
       "╞════════════════════╪═══════════╪═══════════╡\n",
       "│ 0.5000374983470602 ┆ 1.9999429 ┆ 4.4992931 │\n",
       "└────────────────────┴───────────┴───────────┘"
      ]
     },
     "execution_count": 9,
     "metadata": {},
     "output_type": "execute_result"
    }
   ],
   "source": [
    "%%time\n",
    "pl_df[[\"a\", \"b\", \"c\"]].mean()"
   ]
  },
  {
   "cell_type": "markdown",
   "id": "db63cb3c",
   "metadata": {},
   "source": [
    "# 4. Groupby"
   ]
  },
  {
   "cell_type": "markdown",
   "id": "7acd260c",
   "metadata": {},
   "source": [
    "#### one aggregate"
   ]
  },
  {
   "cell_type": "code",
   "execution_count": 10,
   "id": "52bdc304",
   "metadata": {},
   "outputs": [
    {
     "name": "stdout",
     "output_type": "stream",
     "text": [
      "CPU times: user 494 ms, sys: 33.8 ms, total: 528 ms\n",
      "Wall time: 528 ms\n"
     ]
    },
    {
     "data": {
      "text/plain": [
       "fruit\n",
       "apple        0.500161\n",
       "banana       0.500117\n",
       "blueberry    0.499939\n",
       "cherry       0.500026\n",
       "pineapple    0.499945\n",
       "Name: a, dtype: float64"
      ]
     },
     "execution_count": 10,
     "metadata": {},
     "output_type": "execute_result"
    }
   ],
   "source": [
    "%%time\n",
    "(pd_df\n",
    " .groupby(\"fruit\")\n",
    " [\"a\"]\n",
    " .mean())"
   ]
  },
  {
   "cell_type": "code",
   "execution_count": 11,
   "id": "2d7b9338",
   "metadata": {},
   "outputs": [
    {
     "name": "stdout",
     "output_type": "stream",
     "text": [
      "CPU times: user 536 ms, sys: 143 ms, total: 679 ms\n",
      "Wall time: 107 ms\n"
     ]
    },
    {
     "data": {
      "text/html": [
       "<div>\n",
       "<style scoped>\n",
       "    .dataframe tbody tr th:only-of-type {\n",
       "        vertical-align: middle;\n",
       "    }\n",
       "\n",
       "    .dataframe tbody tr th {\n",
       "        vertical-align: top;\n",
       "    }\n",
       "\n",
       "    .dataframe thead th {\n",
       "        text-align: right;\n",
       "    }\n",
       "</style>\n",
       "<table border=\"1 \"class=\"dataframe \">\n",
       "<thead>\n",
       "<tr>\n",
       "<th>\n",
       "fruit\n",
       "</th>\n",
       "<th>\n",
       "a_mean\n",
       "</th>\n",
       "</tr>\n",
       "<tr>\n",
       "<td>\n",
       "str\n",
       "</td>\n",
       "<td>\n",
       "f64\n",
       "</td>\n",
       "</tr>\n",
       "</thead>\n",
       "<tbody>\n",
       "<tr>\n",
       "<td>\n",
       "\"cherry\"\n",
       "</td>\n",
       "<td>\n",
       "0.5000256109200087\n",
       "</td>\n",
       "</tr>\n",
       "<tr>\n",
       "<td>\n",
       "\"blueberry\"\n",
       "</td>\n",
       "<td>\n",
       "0.4999387548617152\n",
       "</td>\n",
       "</tr>\n",
       "<tr>\n",
       "<td>\n",
       "\"banana\"\n",
       "</td>\n",
       "<td>\n",
       "0.5001171123584991\n",
       "</td>\n",
       "</tr>\n",
       "<tr>\n",
       "<td>\n",
       "\"pineapple\"\n",
       "</td>\n",
       "<td>\n",
       "0.4999450227412526\n",
       "</td>\n",
       "</tr>\n",
       "<tr>\n",
       "<td>\n",
       "\"apple\"\n",
       "</td>\n",
       "<td>\n",
       "0.5001610779004338\n",
       "</td>\n",
       "</tr>\n",
       "</tbody>\n",
       "</table>\n",
       "</div>"
      ],
      "text/plain": [
       "shape: (5, 2)\n",
       "┌─────────────┬────────────────────┐\n",
       "│ fruit       ┆ a_mean             │\n",
       "│ ---         ┆ ---                │\n",
       "│ str         ┆ f64                │\n",
       "╞═════════════╪════════════════════╡\n",
       "│ \"cherry\"    ┆ 0.5000256109200087 │\n",
       "├╌╌╌╌╌╌╌╌╌╌╌╌╌┼╌╌╌╌╌╌╌╌╌╌╌╌╌╌╌╌╌╌╌╌┤\n",
       "│ \"blueberry\" ┆ 0.4999387548617152 │\n",
       "├╌╌╌╌╌╌╌╌╌╌╌╌╌┼╌╌╌╌╌╌╌╌╌╌╌╌╌╌╌╌╌╌╌╌┤\n",
       "│ \"banana\"    ┆ 0.5001171123584991 │\n",
       "├╌╌╌╌╌╌╌╌╌╌╌╌╌┼╌╌╌╌╌╌╌╌╌╌╌╌╌╌╌╌╌╌╌╌┤\n",
       "│ \"pineapple\" ┆ 0.4999450227412526 │\n",
       "├╌╌╌╌╌╌╌╌╌╌╌╌╌┼╌╌╌╌╌╌╌╌╌╌╌╌╌╌╌╌╌╌╌╌┤\n",
       "│ \"apple\"     ┆ 0.5001610779004338 │\n",
       "└─────────────┴────────────────────┘"
      ]
     },
     "execution_count": 11,
     "metadata": {},
     "output_type": "execute_result"
    }
   ],
   "source": [
    "%%time\n",
    "(pl_df\n",
    " .groupby(\"fruit\")\n",
    " .agg(pl.mean(\"a\"))\n",
    ")"
   ]
  },
  {
   "cell_type": "markdown",
   "id": "2e66659e",
   "metadata": {},
   "source": [
    "#### multiple aggregates"
   ]
  },
  {
   "cell_type": "code",
   "execution_count": 12,
   "id": "06e22272",
   "metadata": {},
   "outputs": [
    {
     "name": "stdout",
     "output_type": "stream",
     "text": [
      "CPU times: user 630 ms, sys: 97.5 ms, total: 727 ms\n",
      "Wall time: 737 ms\n"
     ]
    },
    {
     "data": {
      "text/html": [
       "<div>\n",
       "<style scoped>\n",
       "    .dataframe tbody tr th:only-of-type {\n",
       "        vertical-align: middle;\n",
       "    }\n",
       "\n",
       "    .dataframe tbody tr th {\n",
       "        vertical-align: top;\n",
       "    }\n",
       "\n",
       "    .dataframe thead th {\n",
       "        text-align: right;\n",
       "    }\n",
       "</style>\n",
       "<table border=\"1\" class=\"dataframe\">\n",
       "  <thead>\n",
       "    <tr style=\"text-align: right;\">\n",
       "      <th></th>\n",
       "      <th>a</th>\n",
       "      <th>b</th>\n",
       "      <th>c</th>\n",
       "    </tr>\n",
       "    <tr>\n",
       "      <th>fruit</th>\n",
       "      <th></th>\n",
       "      <th></th>\n",
       "      <th></th>\n",
       "    </tr>\n",
       "  </thead>\n",
       "  <tbody>\n",
       "    <tr>\n",
       "      <th>apple</th>\n",
       "      <td>0.500161</td>\n",
       "      <td>1.999102</td>\n",
       "      <td>4.496541</td>\n",
       "    </tr>\n",
       "    <tr>\n",
       "      <th>banana</th>\n",
       "      <td>0.500117</td>\n",
       "      <td>1.999839</td>\n",
       "      <td>4.501173</td>\n",
       "    </tr>\n",
       "    <tr>\n",
       "      <th>blueberry</th>\n",
       "      <td>0.499939</td>\n",
       "      <td>2.001447</td>\n",
       "      <td>4.498980</td>\n",
       "    </tr>\n",
       "    <tr>\n",
       "      <th>cherry</th>\n",
       "      <td>0.500026</td>\n",
       "      <td>2.001221</td>\n",
       "      <td>4.497767</td>\n",
       "    </tr>\n",
       "    <tr>\n",
       "      <th>pineapple</th>\n",
       "      <td>0.499945</td>\n",
       "      <td>1.998104</td>\n",
       "      <td>4.502006</td>\n",
       "    </tr>\n",
       "  </tbody>\n",
       "</table>\n",
       "</div>"
      ],
      "text/plain": [
       "                  a         b         c\n",
       "fruit                                  \n",
       "apple      0.500161  1.999102  4.496541\n",
       "banana     0.500117  1.999839  4.501173\n",
       "blueberry  0.499939  2.001447  4.498980\n",
       "cherry     0.500026  2.001221  4.497767\n",
       "pineapple  0.499945  1.998104  4.502006"
      ]
     },
     "execution_count": 12,
     "metadata": {},
     "output_type": "execute_result"
    }
   ],
   "source": [
    "%%time\n",
    "(pd_df\n",
    " .groupby(\"fruit\")\n",
    " .mean())"
   ]
  },
  {
   "cell_type": "code",
   "execution_count": 13,
   "id": "2268b0bb",
   "metadata": {},
   "outputs": [
    {
     "name": "stdout",
     "output_type": "stream",
     "text": [
      "CPU times: user 580 ms, sys: 43.7 ms, total: 624 ms\n",
      "Wall time: 95.4 ms\n"
     ]
    },
    {
     "data": {
      "text/html": [
       "<div>\n",
       "<style scoped>\n",
       "    .dataframe tbody tr th:only-of-type {\n",
       "        vertical-align: middle;\n",
       "    }\n",
       "\n",
       "    .dataframe tbody tr th {\n",
       "        vertical-align: top;\n",
       "    }\n",
       "\n",
       "    .dataframe thead th {\n",
       "        text-align: right;\n",
       "    }\n",
       "</style>\n",
       "<table border=\"1 \"class=\"dataframe \">\n",
       "<thead>\n",
       "<tr>\n",
       "<th>\n",
       "fruit\n",
       "</th>\n",
       "<th>\n",
       "a_mean\n",
       "</th>\n",
       "<th>\n",
       "b_mean\n",
       "</th>\n",
       "<th>\n",
       "c_mean\n",
       "</th>\n",
       "</tr>\n",
       "<tr>\n",
       "<td>\n",
       "str\n",
       "</td>\n",
       "<td>\n",
       "f64\n",
       "</td>\n",
       "<td>\n",
       "f64\n",
       "</td>\n",
       "<td>\n",
       "f64\n",
       "</td>\n",
       "</tr>\n",
       "</thead>\n",
       "<tbody>\n",
       "<tr>\n",
       "<td>\n",
       "\"banana\"\n",
       "</td>\n",
       "<td>\n",
       "0.5001171123584991\n",
       "</td>\n",
       "<td>\n",
       "1.9998389246167205\n",
       "</td>\n",
       "<td>\n",
       "4.501173048986926\n",
       "</td>\n",
       "</tr>\n",
       "<tr>\n",
       "<td>\n",
       "\"pineapple\"\n",
       "</td>\n",
       "<td>\n",
       "0.4999450227412526\n",
       "</td>\n",
       "<td>\n",
       "1.9981042838883634\n",
       "</td>\n",
       "<td>\n",
       "4.502005728653066\n",
       "</td>\n",
       "</tr>\n",
       "<tr>\n",
       "<td>\n",
       "\"apple\"\n",
       "</td>\n",
       "<td>\n",
       "0.5001610779004338\n",
       "</td>\n",
       "<td>\n",
       "1.9991017714008215\n",
       "</td>\n",
       "<td>\n",
       "4.4965408696513265\n",
       "</td>\n",
       "</tr>\n",
       "<tr>\n",
       "<td>\n",
       "\"blueberry\"\n",
       "</td>\n",
       "<td>\n",
       "0.4999387548617152\n",
       "</td>\n",
       "<td>\n",
       "2.0014466846227523\n",
       "</td>\n",
       "<td>\n",
       "4.498980222311536\n",
       "</td>\n",
       "</tr>\n",
       "<tr>\n",
       "<td>\n",
       "\"cherry\"\n",
       "</td>\n",
       "<td>\n",
       "0.5000256109200087\n",
       "</td>\n",
       "<td>\n",
       "2.0012212446601776\n",
       "</td>\n",
       "<td>\n",
       "4.497767131029458\n",
       "</td>\n",
       "</tr>\n",
       "</tbody>\n",
       "</table>\n",
       "</div>"
      ],
      "text/plain": [
       "shape: (5, 4)\n",
       "┌─────────────┬────────────────────┬────────────────────┬────────────────────┐\n",
       "│ fruit       ┆ a_mean             ┆ b_mean             ┆ c_mean             │\n",
       "│ ---         ┆ ---                ┆ ---                ┆ ---                │\n",
       "│ str         ┆ f64                ┆ f64                ┆ f64                │\n",
       "╞═════════════╪════════════════════╪════════════════════╪════════════════════╡\n",
       "│ \"banana\"    ┆ 0.5001171123584991 ┆ 1.9998389246167205 ┆ 4.501173048986926  │\n",
       "├╌╌╌╌╌╌╌╌╌╌╌╌╌┼╌╌╌╌╌╌╌╌╌╌╌╌╌╌╌╌╌╌╌╌┼╌╌╌╌╌╌╌╌╌╌╌╌╌╌╌╌╌╌╌╌┼╌╌╌╌╌╌╌╌╌╌╌╌╌╌╌╌╌╌╌╌┤\n",
       "│ \"pineapple\" ┆ 0.4999450227412526 ┆ 1.9981042838883634 ┆ 4.502005728653066  │\n",
       "├╌╌╌╌╌╌╌╌╌╌╌╌╌┼╌╌╌╌╌╌╌╌╌╌╌╌╌╌╌╌╌╌╌╌┼╌╌╌╌╌╌╌╌╌╌╌╌╌╌╌╌╌╌╌╌┼╌╌╌╌╌╌╌╌╌╌╌╌╌╌╌╌╌╌╌╌┤\n",
       "│ \"apple\"     ┆ 0.5001610779004338 ┆ 1.9991017714008215 ┆ 4.4965408696513265 │\n",
       "├╌╌╌╌╌╌╌╌╌╌╌╌╌┼╌╌╌╌╌╌╌╌╌╌╌╌╌╌╌╌╌╌╌╌┼╌╌╌╌╌╌╌╌╌╌╌╌╌╌╌╌╌╌╌╌┼╌╌╌╌╌╌╌╌╌╌╌╌╌╌╌╌╌╌╌╌┤\n",
       "│ \"blueberry\" ┆ 0.4999387548617152 ┆ 2.0014466846227523 ┆ 4.498980222311536  │\n",
       "├╌╌╌╌╌╌╌╌╌╌╌╌╌┼╌╌╌╌╌╌╌╌╌╌╌╌╌╌╌╌╌╌╌╌┼╌╌╌╌╌╌╌╌╌╌╌╌╌╌╌╌╌╌╌╌┼╌╌╌╌╌╌╌╌╌╌╌╌╌╌╌╌╌╌╌╌┤\n",
       "│ \"cherry\"    ┆ 0.5000256109200087 ┆ 2.0012212446601776 ┆ 4.497767131029458  │\n",
       "└─────────────┴────────────────────┴────────────────────┴────────────────────┘"
      ]
     },
     "execution_count": 13,
     "metadata": {},
     "output_type": "execute_result"
    }
   ],
   "source": [
    "%%time\n",
    "(pl_df\n",
    " .groupby(\"fruit\")\n",
    " .agg(pl.mean(\"*\"))\n",
    ")"
   ]
  },
  {
   "cell_type": "markdown",
   "id": "26266a9f",
   "metadata": {},
   "source": [
    "# 5. Join"
   ]
  },
  {
   "cell_type": "code",
   "execution_count": 14,
   "id": "58251696",
   "metadata": {},
   "outputs": [
    {
     "name": "stdout",
     "output_type": "stream",
     "text": [
      "CPU times: user 1.22 s, sys: 98 ms, total: 1.32 s\n",
      "Wall time: 1.32 s\n"
     ]
    },
    {
     "data": {
      "text/html": [
       "<div>\n",
       "<style scoped>\n",
       "    .dataframe tbody tr th:only-of-type {\n",
       "        vertical-align: middle;\n",
       "    }\n",
       "\n",
       "    .dataframe tbody tr th {\n",
       "        vertical-align: top;\n",
       "    }\n",
       "\n",
       "    .dataframe thead th {\n",
       "        text-align: right;\n",
       "    }\n",
       "</style>\n",
       "<table border=\"1\" class=\"dataframe\">\n",
       "  <thead>\n",
       "    <tr style=\"text-align: right;\">\n",
       "      <th></th>\n",
       "      <th>a</th>\n",
       "      <th>b</th>\n",
       "      <th>c</th>\n",
       "      <th>fruit</th>\n",
       "      <th>fruit_weight</th>\n",
       "    </tr>\n",
       "  </thead>\n",
       "  <tbody>\n",
       "    <tr>\n",
       "      <th>0</th>\n",
       "      <td>0.739783</td>\n",
       "      <td>1</td>\n",
       "      <td>1</td>\n",
       "      <td>pineapple</td>\n",
       "      <td>6.627421</td>\n",
       "    </tr>\n",
       "    <tr>\n",
       "      <th>1</th>\n",
       "      <td>0.419434</td>\n",
       "      <td>2</td>\n",
       "      <td>9</td>\n",
       "      <td>apple</td>\n",
       "      <td>8.327433</td>\n",
       "    </tr>\n",
       "    <tr>\n",
       "      <th>2</th>\n",
       "      <td>0.666899</td>\n",
       "      <td>1</td>\n",
       "      <td>6</td>\n",
       "      <td>pineapple</td>\n",
       "      <td>6.627421</td>\n",
       "    </tr>\n",
       "    <tr>\n",
       "      <th>3</th>\n",
       "      <td>0.851892</td>\n",
       "      <td>3</td>\n",
       "      <td>1</td>\n",
       "      <td>pineapple</td>\n",
       "      <td>6.627421</td>\n",
       "    </tr>\n",
       "    <tr>\n",
       "      <th>4</th>\n",
       "      <td>0.640520</td>\n",
       "      <td>2</td>\n",
       "      <td>3</td>\n",
       "      <td>cherry</td>\n",
       "      <td>6.192603</td>\n",
       "    </tr>\n",
       "    <tr>\n",
       "      <th>...</th>\n",
       "      <td>...</td>\n",
       "      <td>...</td>\n",
       "      <td>...</td>\n",
       "      <td>...</td>\n",
       "      <td>...</td>\n",
       "    </tr>\n",
       "    <tr>\n",
       "      <th>9999995</th>\n",
       "      <td>0.835908</td>\n",
       "      <td>1</td>\n",
       "      <td>8</td>\n",
       "      <td>blueberry</td>\n",
       "      <td>5.738635</td>\n",
       "    </tr>\n",
       "    <tr>\n",
       "      <th>9999996</th>\n",
       "      <td>0.436029</td>\n",
       "      <td>1</td>\n",
       "      <td>3</td>\n",
       "      <td>apple</td>\n",
       "      <td>8.327433</td>\n",
       "    </tr>\n",
       "    <tr>\n",
       "      <th>9999997</th>\n",
       "      <td>0.026649</td>\n",
       "      <td>4</td>\n",
       "      <td>4</td>\n",
       "      <td>cherry</td>\n",
       "      <td>6.192603</td>\n",
       "    </tr>\n",
       "    <tr>\n",
       "      <th>9999998</th>\n",
       "      <td>0.595930</td>\n",
       "      <td>1</td>\n",
       "      <td>4</td>\n",
       "      <td>pineapple</td>\n",
       "      <td>6.627421</td>\n",
       "    </tr>\n",
       "    <tr>\n",
       "      <th>9999999</th>\n",
       "      <td>0.161884</td>\n",
       "      <td>4</td>\n",
       "      <td>4</td>\n",
       "      <td>cherry</td>\n",
       "      <td>6.192603</td>\n",
       "    </tr>\n",
       "  </tbody>\n",
       "</table>\n",
       "<p>10000000 rows × 5 columns</p>\n",
       "</div>"
      ],
      "text/plain": [
       "                a  b  c      fruit  fruit_weight\n",
       "0        0.739783  1  1  pineapple      6.627421\n",
       "1        0.419434  2  9      apple      8.327433\n",
       "2        0.666899  1  6  pineapple      6.627421\n",
       "3        0.851892  3  1  pineapple      6.627421\n",
       "4        0.640520  2  3     cherry      6.192603\n",
       "...           ... .. ..        ...           ...\n",
       "9999995  0.835908  1  8  blueberry      5.738635\n",
       "9999996  0.436029  1  3      apple      8.327433\n",
       "9999997  0.026649  4  4     cherry      6.192603\n",
       "9999998  0.595930  1  4  pineapple      6.627421\n",
       "9999999  0.161884  4  4     cherry      6.192603\n",
       "\n",
       "[10000000 rows x 5 columns]"
      ]
     },
     "execution_count": 14,
     "metadata": {},
     "output_type": "execute_result"
    }
   ],
   "source": [
    "%%time\n",
    "(pd_df\n",
    " .merge(pd_fruit_weights, how=\"left\", on=\"fruit\")\n",
    ")"
   ]
  },
  {
   "cell_type": "code",
   "execution_count": 15,
   "id": "bfdfc236",
   "metadata": {},
   "outputs": [
    {
     "name": "stdout",
     "output_type": "stream",
     "text": [
      "CPU times: user 1.02 s, sys: 199 ms, total: 1.22 s\n",
      "Wall time: 320 ms\n"
     ]
    },
    {
     "data": {
      "text/html": [
       "<div>\n",
       "<style scoped>\n",
       "    .dataframe tbody tr th:only-of-type {\n",
       "        vertical-align: middle;\n",
       "    }\n",
       "\n",
       "    .dataframe tbody tr th {\n",
       "        vertical-align: top;\n",
       "    }\n",
       "\n",
       "    .dataframe thead th {\n",
       "        text-align: right;\n",
       "    }\n",
       "</style>\n",
       "<table border=\"1 \"class=\"dataframe \">\n",
       "<thead>\n",
       "<tr>\n",
       "<th>\n",
       "a\n",
       "</th>\n",
       "<th>\n",
       "b\n",
       "</th>\n",
       "<th>\n",
       "c\n",
       "</th>\n",
       "<th>\n",
       "fruit\n",
       "</th>\n",
       "<th>\n",
       "fruit_weight\n",
       "</th>\n",
       "</tr>\n",
       "<tr>\n",
       "<td>\n",
       "f64\n",
       "</td>\n",
       "<td>\n",
       "i64\n",
       "</td>\n",
       "<td>\n",
       "i64\n",
       "</td>\n",
       "<td>\n",
       "str\n",
       "</td>\n",
       "<td>\n",
       "f64\n",
       "</td>\n",
       "</tr>\n",
       "</thead>\n",
       "<tbody>\n",
       "<tr>\n",
       "<td>\n",
       "0.7397829757695302\n",
       "</td>\n",
       "<td>\n",
       "1\n",
       "</td>\n",
       "<td>\n",
       "1\n",
       "</td>\n",
       "<td>\n",
       "\"pineapple\"\n",
       "</td>\n",
       "<td>\n",
       "6.627420597487596\n",
       "</td>\n",
       "</tr>\n",
       "<tr>\n",
       "<td>\n",
       "0.41943435393901574\n",
       "</td>\n",
       "<td>\n",
       "2\n",
       "</td>\n",
       "<td>\n",
       "9\n",
       "</td>\n",
       "<td>\n",
       "\"apple\"\n",
       "</td>\n",
       "<td>\n",
       "8.327432764116928\n",
       "</td>\n",
       "</tr>\n",
       "<tr>\n",
       "<td>\n",
       "0.6668992640680729\n",
       "</td>\n",
       "<td>\n",
       "1\n",
       "</td>\n",
       "<td>\n",
       "6\n",
       "</td>\n",
       "<td>\n",
       "\"pineapple\"\n",
       "</td>\n",
       "<td>\n",
       "6.627420597487596\n",
       "</td>\n",
       "</tr>\n",
       "<tr>\n",
       "<td>\n",
       "0.8518916839688154\n",
       "</td>\n",
       "<td>\n",
       "3\n",
       "</td>\n",
       "<td>\n",
       "1\n",
       "</td>\n",
       "<td>\n",
       "\"pineapple\"\n",
       "</td>\n",
       "<td>\n",
       "6.627420597487596\n",
       "</td>\n",
       "</tr>\n",
       "<tr>\n",
       "<td>\n",
       "0.6405196843983809\n",
       "</td>\n",
       "<td>\n",
       "2\n",
       "</td>\n",
       "<td>\n",
       "3\n",
       "</td>\n",
       "<td>\n",
       "\"cherry\"\n",
       "</td>\n",
       "<td>\n",
       "6.192602973553914\n",
       "</td>\n",
       "</tr>\n",
       "<tr>\n",
       "<td>\n",
       "0.4567631253979375\n",
       "</td>\n",
       "<td>\n",
       "2\n",
       "</td>\n",
       "<td>\n",
       "4\n",
       "</td>\n",
       "<td>\n",
       "\"cherry\"\n",
       "</td>\n",
       "<td>\n",
       "6.192602973553914\n",
       "</td>\n",
       "</tr>\n",
       "<tr>\n",
       "<td>\n",
       "0.056020224996554346\n",
       "</td>\n",
       "<td>\n",
       "4\n",
       "</td>\n",
       "<td>\n",
       "2\n",
       "</td>\n",
       "<td>\n",
       "\"blueberry\"\n",
       "</td>\n",
       "<td>\n",
       "5.738634609368556\n",
       "</td>\n",
       "</tr>\n",
       "<tr>\n",
       "<td>\n",
       "0.5252347182772842\n",
       "</td>\n",
       "<td>\n",
       "1\n",
       "</td>\n",
       "<td>\n",
       "4\n",
       "</td>\n",
       "<td>\n",
       "\"blueberry\"\n",
       "</td>\n",
       "<td>\n",
       "5.738634609368556\n",
       "</td>\n",
       "</tr>\n",
       "<tr>\n",
       "<td>\n",
       "0.08609717187320609\n",
       "</td>\n",
       "<td>\n",
       "1\n",
       "</td>\n",
       "<td>\n",
       "1\n",
       "</td>\n",
       "<td>\n",
       "\"apple\"\n",
       "</td>\n",
       "<td>\n",
       "8.327432764116928\n",
       "</td>\n",
       "</tr>\n",
       "<tr>\n",
       "<td>\n",
       "0.20010226314697177\n",
       "</td>\n",
       "<td>\n",
       "2\n",
       "</td>\n",
       "<td>\n",
       "3\n",
       "</td>\n",
       "<td>\n",
       "\"cherry\"\n",
       "</td>\n",
       "<td>\n",
       "6.192602973553914\n",
       "</td>\n",
       "</tr>\n",
       "<tr>\n",
       "<td>\n",
       "0.0365807269202727\n",
       "</td>\n",
       "<td>\n",
       "1\n",
       "</td>\n",
       "<td>\n",
       "5\n",
       "</td>\n",
       "<td>\n",
       "\"cherry\"\n",
       "</td>\n",
       "<td>\n",
       "6.192602973553914\n",
       "</td>\n",
       "</tr>\n",
       "<tr>\n",
       "<td>\n",
       "0.01812293747745386\n",
       "</td>\n",
       "<td>\n",
       "3\n",
       "</td>\n",
       "<td>\n",
       "2\n",
       "</td>\n",
       "<td>\n",
       "\"banana\"\n",
       "</td>\n",
       "<td>\n",
       "5.977817319035733\n",
       "</td>\n",
       "</tr>\n",
       "<tr>\n",
       "<td>\n",
       "...\n",
       "</td>\n",
       "<td>\n",
       "...\n",
       "</td>\n",
       "<td>\n",
       "...\n",
       "</td>\n",
       "<td>\n",
       "...\n",
       "</td>\n",
       "<td>\n",
       "...\n",
       "</td>\n",
       "</tr>\n",
       "<tr>\n",
       "<td>\n",
       "0.3523761982723592\n",
       "</td>\n",
       "<td>\n",
       "0\n",
       "</td>\n",
       "<td>\n",
       "0\n",
       "</td>\n",
       "<td>\n",
       "\"blueberry\"\n",
       "</td>\n",
       "<td>\n",
       "5.738634609368556\n",
       "</td>\n",
       "</tr>\n",
       "<tr>\n",
       "<td>\n",
       "0.37407013494814245\n",
       "</td>\n",
       "<td>\n",
       "4\n",
       "</td>\n",
       "<td>\n",
       "4\n",
       "</td>\n",
       "<td>\n",
       "\"cherry\"\n",
       "</td>\n",
       "<td>\n",
       "6.192602973553914\n",
       "</td>\n",
       "</tr>\n",
       "<tr>\n",
       "<td>\n",
       "0.28396560874030885\n",
       "</td>\n",
       "<td>\n",
       "2\n",
       "</td>\n",
       "<td>\n",
       "2\n",
       "</td>\n",
       "<td>\n",
       "\"blueberry\"\n",
       "</td>\n",
       "<td>\n",
       "5.738634609368556\n",
       "</td>\n",
       "</tr>\n",
       "<tr>\n",
       "<td>\n",
       "0.4367759358631702\n",
       "</td>\n",
       "<td>\n",
       "4\n",
       "</td>\n",
       "<td>\n",
       "8\n",
       "</td>\n",
       "<td>\n",
       "\"apple\"\n",
       "</td>\n",
       "<td>\n",
       "8.327432764116928\n",
       "</td>\n",
       "</tr>\n",
       "<tr>\n",
       "<td>\n",
       "0.9440688578007158\n",
       "</td>\n",
       "<td>\n",
       "1\n",
       "</td>\n",
       "<td>\n",
       "1\n",
       "</td>\n",
       "<td>\n",
       "\"apple\"\n",
       "</td>\n",
       "<td>\n",
       "8.327432764116928\n",
       "</td>\n",
       "</tr>\n",
       "<tr>\n",
       "<td>\n",
       "0.4865743812684947\n",
       "</td>\n",
       "<td>\n",
       "0\n",
       "</td>\n",
       "<td>\n",
       "4\n",
       "</td>\n",
       "<td>\n",
       "\"banana\"\n",
       "</td>\n",
       "<td>\n",
       "5.977817319035733\n",
       "</td>\n",
       "</tr>\n",
       "<tr>\n",
       "<td>\n",
       "0.9253192718753372\n",
       "</td>\n",
       "<td>\n",
       "1\n",
       "</td>\n",
       "<td>\n",
       "5\n",
       "</td>\n",
       "<td>\n",
       "\"apple\"\n",
       "</td>\n",
       "<td>\n",
       "8.327432764116928\n",
       "</td>\n",
       "</tr>\n",
       "<tr>\n",
       "<td>\n",
       "0.8359076078536498\n",
       "</td>\n",
       "<td>\n",
       "1\n",
       "</td>\n",
       "<td>\n",
       "8\n",
       "</td>\n",
       "<td>\n",
       "\"blueberry\"\n",
       "</td>\n",
       "<td>\n",
       "5.738634609368556\n",
       "</td>\n",
       "</tr>\n",
       "<tr>\n",
       "<td>\n",
       "0.4360293557929561\n",
       "</td>\n",
       "<td>\n",
       "1\n",
       "</td>\n",
       "<td>\n",
       "3\n",
       "</td>\n",
       "<td>\n",
       "\"apple\"\n",
       "</td>\n",
       "<td>\n",
       "8.327432764116928\n",
       "</td>\n",
       "</tr>\n",
       "<tr>\n",
       "<td>\n",
       "0.026649124832252014\n",
       "</td>\n",
       "<td>\n",
       "4\n",
       "</td>\n",
       "<td>\n",
       "4\n",
       "</td>\n",
       "<td>\n",
       "\"cherry\"\n",
       "</td>\n",
       "<td>\n",
       "6.192602973553914\n",
       "</td>\n",
       "</tr>\n",
       "<tr>\n",
       "<td>\n",
       "0.5959296413875242\n",
       "</td>\n",
       "<td>\n",
       "1\n",
       "</td>\n",
       "<td>\n",
       "4\n",
       "</td>\n",
       "<td>\n",
       "\"pineapple\"\n",
       "</td>\n",
       "<td>\n",
       "6.627420597487596\n",
       "</td>\n",
       "</tr>\n",
       "<tr>\n",
       "<td>\n",
       "0.1618843164252497\n",
       "</td>\n",
       "<td>\n",
       "4\n",
       "</td>\n",
       "<td>\n",
       "4\n",
       "</td>\n",
       "<td>\n",
       "\"cherry\"\n",
       "</td>\n",
       "<td>\n",
       "6.192602973553914\n",
       "</td>\n",
       "</tr>\n",
       "</tbody>\n",
       "</table>\n",
       "</div>"
      ],
      "text/plain": [
       "shape: (10000000, 5)\n",
       "┌──────────────────────┬─────┬─────┬─────────────┬───────────────────┐\n",
       "│ a                    ┆ b   ┆ c   ┆ fruit       ┆ fruit_weight      │\n",
       "│ ---                  ┆ --- ┆ --- ┆ ---         ┆ ---               │\n",
       "│ f64                  ┆ i64 ┆ i64 ┆ str         ┆ f64               │\n",
       "╞══════════════════════╪═════╪═════╪═════════════╪═══════════════════╡\n",
       "│ 0.7397829757695302   ┆ 1   ┆ 1   ┆ \"pineapple\" ┆ 6.627420597487596 │\n",
       "├╌╌╌╌╌╌╌╌╌╌╌╌╌╌╌╌╌╌╌╌╌╌┼╌╌╌╌╌┼╌╌╌╌╌┼╌╌╌╌╌╌╌╌╌╌╌╌╌┼╌╌╌╌╌╌╌╌╌╌╌╌╌╌╌╌╌╌╌┤\n",
       "│ 0.41943435393901574  ┆ 2   ┆ 9   ┆ \"apple\"     ┆ 8.327432764116928 │\n",
       "├╌╌╌╌╌╌╌╌╌╌╌╌╌╌╌╌╌╌╌╌╌╌┼╌╌╌╌╌┼╌╌╌╌╌┼╌╌╌╌╌╌╌╌╌╌╌╌╌┼╌╌╌╌╌╌╌╌╌╌╌╌╌╌╌╌╌╌╌┤\n",
       "│ 0.6668992640680729   ┆ 1   ┆ 6   ┆ \"pineapple\" ┆ 6.627420597487596 │\n",
       "├╌╌╌╌╌╌╌╌╌╌╌╌╌╌╌╌╌╌╌╌╌╌┼╌╌╌╌╌┼╌╌╌╌╌┼╌╌╌╌╌╌╌╌╌╌╌╌╌┼╌╌╌╌╌╌╌╌╌╌╌╌╌╌╌╌╌╌╌┤\n",
       "│ 0.8518916839688154   ┆ 3   ┆ 1   ┆ \"pineapple\" ┆ 6.627420597487596 │\n",
       "├╌╌╌╌╌╌╌╌╌╌╌╌╌╌╌╌╌╌╌╌╌╌┼╌╌╌╌╌┼╌╌╌╌╌┼╌╌╌╌╌╌╌╌╌╌╌╌╌┼╌╌╌╌╌╌╌╌╌╌╌╌╌╌╌╌╌╌╌┤\n",
       "│ ...                  ┆ ... ┆ ... ┆ ...         ┆ ...               │\n",
       "├╌╌╌╌╌╌╌╌╌╌╌╌╌╌╌╌╌╌╌╌╌╌┼╌╌╌╌╌┼╌╌╌╌╌┼╌╌╌╌╌╌╌╌╌╌╌╌╌┼╌╌╌╌╌╌╌╌╌╌╌╌╌╌╌╌╌╌╌┤\n",
       "│ 0.8359076078536498   ┆ 1   ┆ 8   ┆ \"blueberry\" ┆ 5.738634609368556 │\n",
       "├╌╌╌╌╌╌╌╌╌╌╌╌╌╌╌╌╌╌╌╌╌╌┼╌╌╌╌╌┼╌╌╌╌╌┼╌╌╌╌╌╌╌╌╌╌╌╌╌┼╌╌╌╌╌╌╌╌╌╌╌╌╌╌╌╌╌╌╌┤\n",
       "│ 0.4360293557929561   ┆ 1   ┆ 3   ┆ \"apple\"     ┆ 8.327432764116928 │\n",
       "├╌╌╌╌╌╌╌╌╌╌╌╌╌╌╌╌╌╌╌╌╌╌┼╌╌╌╌╌┼╌╌╌╌╌┼╌╌╌╌╌╌╌╌╌╌╌╌╌┼╌╌╌╌╌╌╌╌╌╌╌╌╌╌╌╌╌╌╌┤\n",
       "│ 0.026649124832252014 ┆ 4   ┆ 4   ┆ \"cherry\"    ┆ 6.192602973553914 │\n",
       "├╌╌╌╌╌╌╌╌╌╌╌╌╌╌╌╌╌╌╌╌╌╌┼╌╌╌╌╌┼╌╌╌╌╌┼╌╌╌╌╌╌╌╌╌╌╌╌╌┼╌╌╌╌╌╌╌╌╌╌╌╌╌╌╌╌╌╌╌┤\n",
       "│ 0.5959296413875242   ┆ 1   ┆ 4   ┆ \"pineapple\" ┆ 6.627420597487596 │\n",
       "├╌╌╌╌╌╌╌╌╌╌╌╌╌╌╌╌╌╌╌╌╌╌┼╌╌╌╌╌┼╌╌╌╌╌┼╌╌╌╌╌╌╌╌╌╌╌╌╌┼╌╌╌╌╌╌╌╌╌╌╌╌╌╌╌╌╌╌╌┤\n",
       "│ 0.1618843164252497   ┆ 4   ┆ 4   ┆ \"cherry\"    ┆ 6.192602973553914 │\n",
       "└──────────────────────┴─────┴─────┴─────────────┴───────────────────┘"
      ]
     },
     "execution_count": 15,
     "metadata": {},
     "output_type": "execute_result"
    }
   ],
   "source": [
    "%%time\n",
    "(pl_df\n",
    " .join(pl_fruit_weights, on=\"fruit\")\n",
    ")"
   ]
  },
  {
   "cell_type": "markdown",
   "id": "c7e5ef1b",
   "metadata": {},
   "source": [
    "# 6. I/O"
   ]
  },
  {
   "cell_type": "markdown",
   "id": "cb021a00",
   "metadata": {},
   "source": [
    "#### `to_csv`"
   ]
  },
  {
   "cell_type": "code",
   "execution_count": 16,
   "id": "ee612f62",
   "metadata": {},
   "outputs": [
    {
     "name": "stdout",
     "output_type": "stream",
     "text": [
      "CPU times: user 21.4 s, sys: 752 ms, total: 22.2 s\n",
      "Wall time: 22.3 s\n"
     ]
    }
   ],
   "source": [
    "%%time\n",
    "pd_df.to_csv('./pd_df.csv')"
   ]
  },
  {
   "cell_type": "code",
   "execution_count": 17,
   "id": "180f5c73",
   "metadata": {},
   "outputs": [
    {
     "name": "stdout",
     "output_type": "stream",
     "text": [
      "CPU times: user 1.38 s, sys: 328 ms, total: 1.71 s\n",
      "Wall time: 1.71 s\n"
     ]
    }
   ],
   "source": [
    "%%time\n",
    "pl_df.to_csv('./pl_df.csv')"
   ]
  },
  {
   "cell_type": "markdown",
   "id": "14d77c40",
   "metadata": {},
   "source": [
    "#### `from_csv`"
   ]
  },
  {
   "cell_type": "code",
   "execution_count": 18,
   "id": "85a071b5",
   "metadata": {},
   "outputs": [
    {
     "name": "stdout",
     "output_type": "stream",
     "text": [
      "CPU times: user 2.47 s, sys: 348 ms, total: 2.82 s\n",
      "Wall time: 2.84 s\n"
     ]
    }
   ],
   "source": [
    "%%time\n",
    "_ = pd.read_csv('./pd_df.csv')"
   ]
  },
  {
   "cell_type": "code",
   "execution_count": 19,
   "id": "edcec768",
   "metadata": {},
   "outputs": [
    {
     "name": "stdout",
     "output_type": "stream",
     "text": [
      "CPU times: user 2.91 s, sys: 484 ms, total: 3.39 s\n",
      "Wall time: 714 ms\n"
     ]
    }
   ],
   "source": [
    "%%time\n",
    "_ = pl.read_csv('./pl_df.csv')"
   ]
  },
  {
   "cell_type": "markdown",
   "id": "d63a5025",
   "metadata": {},
   "source": [
    "#### `to_parquet`"
   ]
  },
  {
   "cell_type": "code",
   "execution_count": 20,
   "id": "d2f5d784",
   "metadata": {},
   "outputs": [
    {
     "name": "stdout",
     "output_type": "stream",
     "text": [
      "CPU times: user 1.16 s, sys: 96.9 ms, total: 1.25 s\n",
      "Wall time: 1.24 s\n"
     ]
    }
   ],
   "source": [
    "%%time\n",
    "pd_df.to_parquet('./pd_df.parquet')"
   ]
  },
  {
   "cell_type": "code",
   "execution_count": 21,
   "id": "35e249f5",
   "metadata": {},
   "outputs": [
    {
     "name": "stdout",
     "output_type": "stream",
     "text": [
      "CPU times: user 769 ms, sys: 27.4 ms, total: 797 ms\n",
      "Wall time: 800 ms\n"
     ]
    }
   ],
   "source": [
    "%%time\n",
    "pl_df.to_parquet('./pl_df.parquet')"
   ]
  },
  {
   "cell_type": "markdown",
   "id": "e5f7e32f",
   "metadata": {},
   "source": [
    "#### `from_parquet`"
   ]
  },
  {
   "cell_type": "code",
   "execution_count": 22,
   "id": "dbc5db84",
   "metadata": {},
   "outputs": [
    {
     "name": "stdout",
     "output_type": "stream",
     "text": [
      "CPU times: user 745 ms, sys: 250 ms, total: 995 ms\n",
      "Wall time: 674 ms\n"
     ]
    }
   ],
   "source": [
    "%%time\n",
    "_ = pd.read_parquet('./pd_df.parquet')"
   ]
  },
  {
   "cell_type": "code",
   "execution_count": 23,
   "id": "cf4d632f",
   "metadata": {},
   "outputs": [
    {
     "name": "stdout",
     "output_type": "stream",
     "text": [
      "CPU times: user 640 ms, sys: 165 ms, total: 805 ms\n",
      "Wall time: 645 ms\n"
     ]
    }
   ],
   "source": [
    "%%time\n",
    "_ = pl.read_parquet('./pl_df.parquet')"
   ]
  },
  {
   "cell_type": "markdown",
   "id": "9f5c75a3",
   "metadata": {},
   "source": [
    "#### clean up directory of I/O files"
   ]
  },
  {
   "cell_type": "code",
   "execution_count": 24,
   "id": "89c1f3ab",
   "metadata": {},
   "outputs": [],
   "source": [
    "for file in [\"./pd_df.csv\", \"./pl_df.csv\", \"./pd_df.parquet\", \"./pl_df.parquet\"]:\n",
    "    os.remove(file)"
   ]
  },
  {
   "cell_type": "markdown",
   "id": "0e7b4f4c",
   "metadata": {},
   "source": [
    "# 7. String Methods"
   ]
  },
  {
   "cell_type": "markdown",
   "id": "6911b898",
   "metadata": {},
   "source": [
    "#### slice"
   ]
  },
  {
   "cell_type": "code",
   "execution_count": 25,
   "id": "a03ed9e3",
   "metadata": {},
   "outputs": [
    {
     "name": "stdout",
     "output_type": "stream",
     "text": [
      "CPU times: user 2.06 s, sys: 165 ms, total: 2.23 s\n",
      "Wall time: 2.24 s\n"
     ]
    },
    {
     "data": {
      "text/plain": [
       "0          inea\n",
       "1          pple\n",
       "2          inea\n",
       "3          inea\n",
       "4          herr\n",
       "           ... \n",
       "9999995    lueb\n",
       "9999996    pple\n",
       "9999997    herr\n",
       "9999998    inea\n",
       "9999999    herr\n",
       "Name: fruit, Length: 10000000, dtype: object"
      ]
     },
     "execution_count": 25,
     "metadata": {},
     "output_type": "execute_result"
    }
   ],
   "source": [
    "%%time\n",
    "pd_df[\"fruit\"].str[1:5] # The arguments are \"start\" and \"stop\" index."
   ]
  },
  {
   "cell_type": "code",
   "execution_count": 26,
   "id": "75100a6e",
   "metadata": {},
   "outputs": [
    {
     "name": "stdout",
     "output_type": "stream",
     "text": [
      "CPU times: user 155 ms, sys: 29.4 ms, total: 185 ms\n",
      "Wall time: 186 ms\n"
     ]
    },
    {
     "data": {
      "text/plain": [
       "shape: (10000000,)\n",
       "Series: 'fruit' [str]\n",
       "[\n",
       "\t\"inea\"\n",
       "\t\"pple\"\n",
       "\t\"inea\"\n",
       "\t\"inea\"\n",
       "\t\"herr\"\n",
       "\t\"herr\"\n",
       "\t\"lueb\"\n",
       "\t\"lueb\"\n",
       "\t\"pple\"\n",
       "\t\"herr\"\n",
       "\t\"herr\"\n",
       "\t\"anan\"\n",
       "\t...\n",
       "\t\"lueb\"\n",
       "\t\"herr\"\n",
       "\t\"lueb\"\n",
       "\t\"pple\"\n",
       "\t\"pple\"\n",
       "\t\"anan\"\n",
       "\t\"pple\"\n",
       "\t\"lueb\"\n",
       "\t\"pple\"\n",
       "\t\"herr\"\n",
       "\t\"inea\"\n",
       "\t\"herr\"\n",
       "]"
      ]
     },
     "execution_count": 26,
     "metadata": {},
     "output_type": "execute_result"
    }
   ],
   "source": [
    "%%time\n",
    "pl_df[\"fruit\"].str.slice(1, 4) # The arguments are \"start\" index and \"length\""
   ]
  },
  {
   "cell_type": "markdown",
   "id": "1de53084",
   "metadata": {},
   "source": [
    "# 8. Conclusion"
   ]
  },
  {
   "cell_type": "markdown",
   "id": "e8af8f79",
   "metadata": {},
   "source": [
    "Polars supports all the same basic functionality as Pandas, including easy interaction with cloud providers, but at least 4 times faster for almost all basic functions. Furthermore, Polars and Pandas are commensurately expressive, with some differences (e.g. Polars's dataframe output displays are more explicitly clear regarding data-types)."
   ]
  }
 ],
 "metadata": {
  "kernelspec": {
   "display_name": "Python 3",
   "language": "python",
   "name": "python3"
  },
  "language_info": {
   "codemirror_mode": {
    "name": "ipython",
    "version": 3
   },
   "file_extension": ".py",
   "mimetype": "text/x-python",
   "name": "python",
   "nbconvert_exporter": "python",
   "pygments_lexer": "ipython3",
   "version": "3.9.5"
  }
 },
 "nbformat": 4,
 "nbformat_minor": 5
}
